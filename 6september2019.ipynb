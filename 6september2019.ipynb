{
 "cells": [
  {
   "cell_type": "markdown",
   "metadata": {},
   "source": [
    "## Day Objectives\n",
    "1. Creating contacts using Dictionaries\n",
    "2. Searching for a contact\n",
    "3. Packages and Modules\n",
    "4. Regular Expressions and \n",
    "5. File Handling"
   ]
  },
  {
   "cell_type": "code",
   "execution_count": 1,
   "metadata": {},
   "outputs": [
    {
     "data": {
      "text/plain": [
       "{'k1': 'name', 'k2': 'age', 'k3': 'number'}"
      ]
     },
     "execution_count": 1,
     "metadata": {},
     "output_type": "execute_result"
    }
   ],
   "source": [
    "dict={'k1':'name','k2':'age','k3':'number'}\n",
    "dict"
   ]
  },
  {
   "cell_type": "code",
   "execution_count": 3,
   "metadata": {},
   "outputs": [
    {
     "data": {
      "text/plain": [
       "'name'"
      ]
     },
     "execution_count": 3,
     "metadata": {},
     "output_type": "execute_result"
    }
   ],
   "source": [
    "dict['k1']"
   ]
  },
  {
   "cell_type": "code",
   "execution_count": 4,
   "metadata": {},
   "outputs": [
    {
     "data": {
      "text/plain": [
       "dict_items([('k1', 'name'), ('k2', 'age'), ('k3', 'number')])"
      ]
     },
     "execution_count": 4,
     "metadata": {},
     "output_type": "execute_result"
    }
   ],
   "source": [
    "dict.items()"
   ]
  },
  {
   "cell_type": "code",
   "execution_count": 5,
   "metadata": {},
   "outputs": [
    {
     "name": "stdout",
     "output_type": "stream",
     "text": [
      "contact added successfully\n"
     ]
    }
   ],
   "source": [
    "## Adding a contact\n",
    "## name , phone number\n",
    "contacts={}\n",
    "def addcontact(name,phonenumber):\n",
    "    if name not in contacts:\n",
    "        contacts[name]=phonenumber\n",
    "        print(\"contact added successfully\")\n",
    "    else:\n",
    "        print(\"contact already exists\")\n",
    "addcontact('name1',9987654321)"
   ]
  },
  {
   "cell_type": "code",
   "execution_count": 6,
   "metadata": {},
   "outputs": [
    {
     "data": {
      "text/plain": [
       "{'name1': 9987654321}"
      ]
     },
     "execution_count": 6,
     "metadata": {},
     "output_type": "execute_result"
    }
   ],
   "source": [
    "contacts"
   ]
  },
  {
   "cell_type": "code",
   "execution_count": 7,
   "metadata": {},
   "outputs": [
    {
     "name": "stdout",
     "output_type": "stream",
     "text": [
      "name1 : 9987654321\n"
     ]
    }
   ],
   "source": [
    "## Searching a contact\n",
    "## Using key \"name\"\n",
    "def searchcontact(name):\n",
    "    if name in contacts:\n",
    "        print(name,\":\",contacts[name])\n",
    "    else:\n",
    "        print(\"doesnot exists\")\n",
    "searchcontact('name1')"
   ]
  },
  {
   "cell_type": "code",
   "execution_count": 8,
   "metadata": {},
   "outputs": [
    {
     "name": "stdout",
     "output_type": "stream",
     "text": [
      "doesnot exists\n"
     ]
    }
   ],
   "source": [
    "searchcontact('name2')"
   ]
  },
  {
   "cell_type": "code",
   "execution_count": 10,
   "metadata": {},
   "outputs": [
    {
     "name": "stdout",
     "output_type": "stream",
     "text": [
      "2 contacts added suuccesfully\n"
     ]
    }
   ],
   "source": [
    "##merging two contacts\n",
    "## using update method\n",
    "def mergecontacts(newcontacts):\n",
    "    contacts.update(newcontacts)\n",
    "    print(len(newcontacts.keys()),\"contacts added suuccesfully\")\n",
    "    \n",
    "newcontacts={'name2':9987541234,'name3':9874123456}\n",
    "mergecontacts(newcontacts)\n",
    "    \n"
   ]
  },
  {
   "cell_type": "code",
   "execution_count": 11,
   "metadata": {},
   "outputs": [
    {
     "data": {
      "text/plain": [
       "{'name1': 9987654321, 'name2': 9987541234, 'name3': 9874123456}"
      ]
     },
     "execution_count": 11,
     "metadata": {},
     "output_type": "execute_result"
    }
   ],
   "source": [
    "contacts"
   ]
  },
  {
   "cell_type": "code",
   "execution_count": 12,
   "metadata": {},
   "outputs": [],
   "source": [
    "## Dictionary:Mobilecontacts\n",
    "## Add a contact \n",
    "## KEY :'a' ,value:9989870478\n",
    "## Another Dictionary:Applemobile\n",
    "## Key:'b',value:9989970478"
   ]
  },
  {
   "cell_type": "markdown",
   "metadata": {},
   "source": [
    "## Packages and Module\n",
    "##### Package->Collection of Modules\n",
    "###### Module->Collection of Functions"
   ]
  },
  {
   "cell_type": "code",
   "execution_count": 13,
   "metadata": {},
   "outputs": [
    {
     "data": {
      "text/plain": [
       "123"
      ]
     },
     "execution_count": 13,
     "metadata": {},
     "output_type": "execute_result"
    }
   ],
   "source": [
    "from math import floor\n",
    "floor(123.456789)"
   ]
  },
  {
   "cell_type": "code",
   "execution_count": 15,
   "metadata": {},
   "outputs": [
    {
     "data": {
      "text/plain": [
       "False"
      ]
     },
     "execution_count": 15,
     "metadata": {},
     "output_type": "execute_result"
    }
   ],
   "source": [
    "from Packages.numerical import isprime\n",
    "isprime(10)"
   ]
  },
  {
   "cell_type": "code",
   "execution_count": 16,
   "metadata": {},
   "outputs": [
    {
     "name": "stdout",
     "output_type": "stream",
     "text": [
      "51\n",
      "83\n",
      "48\n",
      "0\n",
      "58\n",
      "50\n",
      "68\n",
      "36\n",
      "59\n",
      "65\n"
     ]
    }
   ],
   "source": [
    "## generating marks using\"random\" prebuilt function\n",
    "import random\n",
    "def generatemarks(n,lb,ub):\n",
    "    for i in range(0,n):\n",
    "        print(random.randint(lb,ub))\n",
    "generatemarks(10,0,100)"
   ]
  },
  {
   "cell_type": "markdown",
   "metadata": {},
   "source": [
    "### Regular Expression\n",
    "##### Phone Number:Pattern=^[6-9][0-9]{9}$"
   ]
  },
  {
   "cell_type": "code",
   "execution_count": 17,
   "metadata": {},
   "outputs": [
    {
     "name": "stdout",
     "output_type": "stream",
     "text": [
      "valid\n"
     ]
    }
   ],
   "source": [
    "## Function for phonenumber validation using \n",
    "## Regular Expression\n",
    "import re\n",
    "def phonenumbervalidator(number):\n",
    "    pattern='^[6-9][0-9]{9}$'\n",
    "    if re.match(pattern,number):\n",
    "        print(\"valid\")\n",
    "    else:\n",
    "        print(\"Invalid\")\n",
    "phonenumbervalidator('9989870487')"
   ]
  },
  {
   "cell_type": "code",
   "execution_count": 18,
   "metadata": {},
   "outputs": [],
   "source": [
    "## pattern For email validation\n",
    "## Email id:username,domain,extension\n",
    "##pattern:'^[a-z0-9][a-z0-9_.]{3,18}[@][a-z0-9]{4,18}\n",
    "## [.][a-z]{2,4}'"
   ]
  },
  {
   "cell_type": "markdown",
   "metadata": {},
   "source": [
    "## File Handling\n",
    "- It's a collection of related information\n",
    "- basics steps\n",
    "    - opening a file\n",
    "    - performing operations (read,write,append)\n",
    "    - closing a file"
   ]
  },
  {
   "cell_type": "markdown",
   "metadata": {},
   "source": [
    "## syntax: file_obj=open(\"filepath\",\"mode)"
   ]
  },
  {
   "cell_type": "code",
   "execution_count": 20,
   "metadata": {},
   "outputs": [
    {
     "name": "stdout",
     "output_type": "stream",
     "text": [
      "Line 1\n",
      "Line 2\n",
      "Line 3\n"
     ]
    }
   ],
   "source": [
    "f = open(\"DataFiles/data.txt\",\"r\")\n",
    "print(f.read())\n",
    "f.close()"
   ]
  },
  {
   "cell_type": "code",
   "execution_count": 23,
   "metadata": {},
   "outputs": [],
   "source": [
    "with open(\"DataFiles/data.txt\",\"a\") as f:\n",
    "    f.write(\"Line 5\")"
   ]
  },
  {
   "cell_type": "code",
   "execution_count": 28,
   "metadata": {},
   "outputs": [
    {
     "name": "stdout",
     "output_type": "stream",
     "text": [
      "22\n",
      "44\n",
      "0\n"
     ]
    }
   ],
   "source": [
    "with open(\"DataFiles/data.txt\",'a+') as f:\n",
    "    f.read()\n",
    "    print(f.tell())\n",
    "    f.write(\"Line 2\\nline 3\\nline 4\")\n",
    "    print(f.tell())\n",
    "    f.seek(0)\n",
    "    print(f.tell())"
   ]
  },
  {
   "cell_type": "code",
   "execution_count": 40,
   "metadata": {},
   "outputs": [
    {
     "name": "stdout",
     "output_type": "stream",
     "text": [
      "['Line 1\\n', 'line 3\\n']\n"
     ]
    }
   ],
   "source": [
    "with open(\"DataFiles/data.txt\") as f:\n",
    "    print(f.readlines())"
   ]
  },
  {
   "cell_type": "code",
   "execution_count": 60,
   "metadata": {},
   "outputs": [
    {
     "name": "stdout",
     "output_type": "stream",
     "text": [
      "['Python', 'workshop', 'aliet', 'engineering', 'college', 'file', 'handling', 'Python', 'file', 'college']\n"
     ]
    }
   ],
   "source": [
    "with open(\"DataFiles/data.txt\",'r') as f:\n",
    "    fh = f.read()\n",
    "    words = fh.split()\n",
    "    print(words)"
   ]
  },
  {
   "cell_type": "code",
   "execution_count": 53,
   "metadata": {},
   "outputs": [
    {
     "name": "stdout",
     "output_type": "stream",
     "text": [
      "Python workshop\n",
      "aliet engineering college\n",
      "file handling\n",
      "\n"
     ]
    }
   ],
   "source": [
    "def readFile(filepath):\n",
    "    with open(filepath, 'r') as f:\n",
    "        filedata = f.read() # Reads the entire file data into a string\n",
    "    return filedata\n",
    "\n",
    "filepath = 'DataFiles/data.txt'\n",
    "print(readFile(filepath))"
   ]
  },
  {
   "cell_type": "code",
   "execution_count": 51,
   "metadata": {},
   "outputs": [
    {
     "name": "stdout",
     "output_type": "stream",
     "text": [
      "3\n"
     ]
    }
   ],
   "source": [
    "def linecount(filename):\n",
    "    count = 0\n",
    "    with open(filename,'r') as f:\n",
    "        for i in f:\n",
    "            count = count+1\n",
    "    return count\n",
    "filename = \"DataFiles/data.txt\"\n",
    "print(linecount(filename))"
   ]
  },
  {
   "cell_type": "code",
   "execution_count": 58,
   "metadata": {},
   "outputs": [
    {
     "name": "stdout",
     "output_type": "stream",
     "text": [
      "7\n"
     ]
    }
   ],
   "source": [
    "# Function to count number of words in a file\n",
    "import re\n",
    "def wordCount(filepath):\n",
    "    pattern = '[ \\n]'\n",
    "    filedata = readFile(filepath)\n",
    "    count = len(re.split(pattern, filedata))\n",
    "    return count\n",
    "filepath = \"DataFiles/data.txt\"\n",
    "print(wordCount(filepath))"
   ]
  },
  {
   "cell_type": "code",
   "execution_count": 65,
   "metadata": {},
   "outputs": [
    {
     "data": {
      "text/plain": [
       "{'Python': 2,\n",
       " 'workshop': 1,\n",
       " 'aliet': 1,\n",
       " 'engineering': 1,\n",
       " 'college': 2,\n",
       " 'file': 2,\n",
       " 'handling': 1}"
      ]
     },
     "execution_count": 65,
     "metadata": {},
     "output_type": "execute_result"
    }
   ],
   "source": [
    "def wordfrequency(filepath):\n",
    "    with open(filepath,'r') as f:\n",
    "        data = f.read()\n",
    "    allwords = data.split()\n",
    "    wordfreq={}   \n",
    "    # For every element in the main list, \n",
    "        # check if it exists in the unique list.\n",
    "        # If it does not exist, add it to unique list\n",
    "        # else if it already exists, move on to the next element in the main list   \n",
    "    for element in allwords:\n",
    "        if element not in wordfreq:\n",
    "            wordfreq[element] = 1\n",
    "        else:\n",
    "            wordfreq[element]+=1\n",
    "    return wordfreq\n",
    "\n",
    "wordfrequency(filepath)"
   ]
  },
  {
   "cell_type": "markdown",
   "metadata": {},
   "source": [
    "### set and its methods"
   ]
  },
  {
   "cell_type": "code",
   "execution_count": 2,
   "metadata": {},
   "outputs": [
    {
     "name": "stdout",
     "output_type": "stream",
     "text": [
      "{456, 234, 'abd', 45, 121, 122}\n"
     ]
    }
   ],
   "source": [
    "l=(121,\"abd\",456,234,122,45,\"abd\")\n",
    "print(set(l))"
   ]
  },
  {
   "cell_type": "markdown",
   "metadata": {},
   "source": [
    "# set methods\n",
    "#### add()\n",
    "#### union()\n",
    "#### intersection()\n",
    "#### difference()\n",
    "#### update()"
   ]
  },
  {
   "cell_type": "code",
   "execution_count": 12,
   "metadata": {},
   "outputs": [
    {
     "data": {
      "text/plain": [
       "{1, 123, 'abc', 'iiit'}"
      ]
     },
     "execution_count": 12,
     "metadata": {},
     "output_type": "execute_result"
    }
   ],
   "source": [
    "s1={\"abc\",1,\"iiit\",123,123,\"iiit\"}\n",
    "s1.add(123)\n",
    "s1"
   ]
  },
  {
   "cell_type": "code",
   "execution_count": 5,
   "metadata": {},
   "outputs": [
    {
     "name": "stdout",
     "output_type": "stream",
     "text": [
      "{'wer', 1, 'qwe', 'iiit', 122, 123, 'abc'}\n"
     ]
    }
   ],
   "source": [
    "s1={\"abc\",1,\"iiit\",123,123,\"iiit\"}\n",
    "s2={\"qwe\",\"wer\",122}\n",
    "print(s1.union(s2))\n"
   ]
  },
  {
   "cell_type": "code",
   "execution_count": 4,
   "metadata": {},
   "outputs": [
    {
     "data": {
      "text/plain": [
       "['__and__',\n",
       " '__class__',\n",
       " '__contains__',\n",
       " '__delattr__',\n",
       " '__dir__',\n",
       " '__doc__',\n",
       " '__eq__',\n",
       " '__format__',\n",
       " '__ge__',\n",
       " '__getattribute__',\n",
       " '__gt__',\n",
       " '__hash__',\n",
       " '__iand__',\n",
       " '__init__',\n",
       " '__init_subclass__',\n",
       " '__ior__',\n",
       " '__isub__',\n",
       " '__iter__',\n",
       " '__ixor__',\n",
       " '__le__',\n",
       " '__len__',\n",
       " '__lt__',\n",
       " '__ne__',\n",
       " '__new__',\n",
       " '__or__',\n",
       " '__rand__',\n",
       " '__reduce__',\n",
       " '__reduce_ex__',\n",
       " '__repr__',\n",
       " '__ror__',\n",
       " '__rsub__',\n",
       " '__rxor__',\n",
       " '__setattr__',\n",
       " '__sizeof__',\n",
       " '__str__',\n",
       " '__sub__',\n",
       " '__subclasshook__',\n",
       " '__xor__',\n",
       " 'add',\n",
       " 'clear',\n",
       " 'copy',\n",
       " 'difference',\n",
       " 'difference_update',\n",
       " 'discard',\n",
       " 'intersection',\n",
       " 'intersection_update',\n",
       " 'isdisjoint',\n",
       " 'issubset',\n",
       " 'issuperset',\n",
       " 'pop',\n",
       " 'remove',\n",
       " 'symmetric_difference',\n",
       " 'symmetric_difference_update',\n",
       " 'union',\n",
       " 'update']"
      ]
     },
     "execution_count": 4,
     "metadata": {},
     "output_type": "execute_result"
    }
   ],
   "source": [
    "dir(set)"
   ]
  },
  {
   "cell_type": "code",
   "execution_count": 9,
   "metadata": {},
   "outputs": [
    {
     "name": "stdout",
     "output_type": "stream",
     "text": [
      "{1}\n"
     ]
    }
   ],
   "source": [
    "s1={\"abc\",1,\"iiit\",123,123,\"iiit\"}\n",
    "s2={\"qwe\",\"wer\",122,1}\n",
    "print(s1.intersection(s2))"
   ]
  },
  {
   "cell_type": "code",
   "execution_count": 10,
   "metadata": {},
   "outputs": [
    {
     "name": "stdout",
     "output_type": "stream",
     "text": [
      "{'aaa', 30, '123'}\n"
     ]
    }
   ],
   "source": [
    "s1={10,20,30,\"aaa\",\"123\"}\n",
    "s2={10,20}\n",
    "print(s1.difference(s2))"
   ]
  },
  {
   "cell_type": "code",
   "execution_count": 13,
   "metadata": {},
   "outputs": [
    {
     "data": {
      "text/plain": [
       "{1, 122, 123, 'abc', 'iiit', 'qwe', 'wer'}"
      ]
     },
     "execution_count": 13,
     "metadata": {},
     "output_type": "execute_result"
    }
   ],
   "source": [
    "s1={\"abc\",1,\"iiit\",123,123,\"iiit\"}\n",
    "s2={\"qwe\",\"wer\",122,1}\n",
    "s1.update(s2)\n",
    "s1"
   ]
  },
  {
   "cell_type": "code",
   "execution_count": 14,
   "metadata": {},
   "outputs": [
    {
     "data": {
      "text/plain": [
       "set()"
      ]
     },
     "execution_count": 14,
     "metadata": {},
     "output_type": "execute_result"
    }
   ],
   "source": [
    "s1={\"abc\",1,\"iiit\",123,123,\"iiit\"}\n",
    "s1.clear()\n",
    "s1"
   ]
  },
  {
   "cell_type": "code",
   "execution_count": 15,
   "metadata": {},
   "outputs": [],
   "source": [
    "##Tasks\n",
    "## Program for generating Multiplication of table\n",
    "#i/p (3,5,7)\n",
    "#o/p:3 x 5 =15\n",
    "#    3 x 6 = 18\n",
    "#    3 x 7 = 21\n"
   ]
  },
  {
   "cell_type": "code",
   "execution_count": 16,
   "metadata": {},
   "outputs": [],
   "source": [
    "# Design a program to find maximum,minimum\n",
    "# and average of numbers in a list\n",
    "# i/p:l=[1,10,10,9,9,8,8]\n",
    "# o/p:1.Find unique list\n",
    "#    :2.Find max and min values\n",
    "#     :3.Find average"
   ]
  },
  {
   "cell_type": "code",
   "execution_count": 17,
   "metadata": {},
   "outputs": [],
   "source": [
    "# Write a program for linear search in a list\n",
    "# if key is found print \"1\"\n",
    "# Else print \"-1\"\n",
    "# i/p l=[10,9,8,7,6],5\n",
    "#o/p:-1"
   ]
  },
  {
   "cell_type": "code",
   "execution_count": 18,
   "metadata": {},
   "outputs": [],
   "source": [
    "# Find the square root of a numbers in list\n",
    "#with out using\n",
    "# math package\n"
   ]
  },
  {
   "cell_type": "code",
   "execution_count": null,
   "metadata": {},
   "outputs": [],
   "source": [
    "# using a regular expression\n",
    "# ADD a name,phonenumber and email to contacts\n",
    "# Dictionary"
   ]
  }
 ],
 "metadata": {
  "kernelspec": {
   "display_name": "Python 3",
   "language": "python",
   "name": "python3"
  },
  "language_info": {
   "codemirror_mode": {
    "name": "ipython",
    "version": 3
   },
   "file_extension": ".py",
   "mimetype": "text/x-python",
   "name": "python",
   "nbconvert_exporter": "python",
   "pygments_lexer": "ipython3",
   "version": "3.7.3"
  }
 },
 "nbformat": 4,
 "nbformat_minor": 2
}
